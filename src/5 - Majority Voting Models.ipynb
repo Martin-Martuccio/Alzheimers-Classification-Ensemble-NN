{
  "cells": [
    {
      "cell_type": "markdown",
      "metadata": {
        "id": "IIC-h5ZHdELh"
      },
      "source": [
        "https://www.frontiersin.org/journals/public-health/articles/10.3389/fpubh.2022.834032/full"
      ]
    },
    {
      "cell_type": "code",
      "execution_count": null,
      "metadata": {
        "id": "xTj9ijyPYIrK"
      },
      "outputs": [],
      "source": [
        "#now we will not numpy, we will user tensor\n",
        "#different data structure\n",
        "import numpy as np\n",
        "import tensorflow as tf\n",
        "\n",
        "#backend of keras\n",
        "#dataset imported\n",
        "from tensorflow.keras import Model, layers\n",
        "from tensorflow.keras.applications import ResNet50\n",
        "\n",
        "#keras and the layers which are fully connected (Dense), Dropout, Flatten (convert all in vector automatic way), Conv2D and MaxPooling2D\n",
        "from tensorflow.keras.layers import Dense, Dropout, Flatten, Conv2D, MaxPooling2D, GlobalAveragePooling2D, BatchNormalization, Add, SeparableConv2D\n",
        "\n",
        "#to load a local dataset\n",
        "import pathlib"
      ]
    },
    {
      "cell_type": "code",
      "execution_count": null,
      "metadata": {
        "id": "MIdxEKcvDsnp"
      },
      "outputs": [],
      "source": [
        "# data_dir = tf.keras.utils.get_file('Machine Learning', origin=data_path, untar = True)\n",
        "data = \"Sized Alzheimer Dataset\"\n",
        "data_dir = pathlib.Path(data)"
      ]
    },
    {
      "cell_type": "code",
      "execution_count": null,
      "metadata": {
        "colab": {
          "base_uri": "https://localhost:8080/"
        },
        "id": "Ar0l-DKa9YHI",
        "outputId": "812efb15-41a5-4718-a2ca-0d68cac34a6a"
      },
      "outputs": [
        {
          "name": "stdout",
          "output_type": "stream",
          "text": [
            "Mounted at /content/drive\n"
          ]
        }
      ],
      "source": [
        "from google.colab import drive\n",
        "import shutil\n",
        "\n",
        "# Monta Google Drive\n",
        "drive.mount('/content/drive')\n",
        "\n",
        "drive_data = \"drive/My Drive/MLDA/\"\n",
        "#temp = shutil.copytree(drive_data + data, data)\n",
        "#for i in range(5):\n",
        "#    temp = shutil.copytree(drive_data + 'model' + str(i), 'model' + str(i))\n",
        "\n",
        "def scrivi_e_copia(file_path, contenuto):\n",
        "    # Scrive nel file in modalità append\n",
        "    with open(file_path, 'a') as file:\n",
        "        file.write(contenuto)\n",
        "\n",
        "    # Copia il file su Google Drive\n",
        "    try:\n",
        "        shutil.copy(file_path, drive_data)\n",
        "        print(\"File copiato con successo su Google Drive!\")\n",
        "    except Exception as e:\n",
        "        print(\"Si è verificato un errore durante la copia del file su Google Drive:\")"
      ]
    },
    {
      "cell_type": "code",
      "execution_count": null,
      "metadata": {
        "colab": {
          "base_uri": "https://localhost:8080/"
        },
        "id": "FYYkfkk2zC46",
        "outputId": "764b8728-f62e-481a-9d96-a488445224a2"
      },
      "outputs": [
        {
          "name": "stdout",
          "output_type": "stream",
          "text": [
            "The directory ./Sized Alzheimer Dataset does not exist.\n"
          ]
        }
      ],
      "source": [
        "%%script true\n",
        "from shutil import rmtree\n",
        "from os.path import exists\n",
        "\n",
        "# Specify the path of the directory to be deleted\n",
        "directory_path = \"./\" + data\n",
        "\n",
        "# Check if the directory exists before attempting to delete it\n",
        "if exists(directory_path):\n",
        "    rmtree(directory_path)\n",
        "    print(f\"The directory {directory_path} has been deleted.\")\n",
        "else:\n",
        "    print(f\"The directory {directory_path} does not exist.\")"
      ]
    },
    {
      "cell_type": "code",
      "execution_count": null,
      "metadata": {
        "colab": {
          "base_uri": "https://localhost:8080/"
        },
        "id": "o3Rr262MM03t",
        "outputId": "340329d1-4b4b-45bc-bcf4-f7e9aeccc167"
      },
      "outputs": [
        {
          "name": "stdout",
          "output_type": "stream",
          "text": [
            "Collecting py7zr\n",
            "  Downloading py7zr-0.21.0-py3-none-any.whl (67 kB)\n",
            "\u001b[?25l     \u001b[90m━━━━━━━━━━━━━━━━━━━━━━━━━━━━━━━━━━━━━━━━\u001b[0m \u001b[32m0.0/67.6 kB\u001b[0m \u001b[31m?\u001b[0m eta \u001b[36m-:--:--\u001b[0m\r\u001b[2K     \u001b[90m━━━━━━━━━━━━━━━━━━━━━━━━━━━━━━━━━━━━━━━━\u001b[0m \u001b[32m67.6/67.6 kB\u001b[0m \u001b[31m2.3 MB/s\u001b[0m eta \u001b[36m0:00:00\u001b[0m\n",
            "\u001b[?25hCollecting texttable (from py7zr)\n",
            "  Downloading texttable-1.7.0-py2.py3-none-any.whl (10 kB)\n",
            "Collecting pycryptodomex>=3.16.0 (from py7zr)\n",
            "  Downloading pycryptodomex-3.20.0-cp35-abi3-manylinux_2_17_x86_64.manylinux2014_x86_64.whl (2.1 MB)\n",
            "\u001b[2K     \u001b[90m━━━━━━━━━━━━━━━━━━━━━━━━━━━━━━━━━━━━━━━━\u001b[0m \u001b[32m2.1/2.1 MB\u001b[0m \u001b[31m33.0 MB/s\u001b[0m eta \u001b[36m0:00:00\u001b[0m\n",
            "\u001b[?25hCollecting pyzstd>=0.15.9 (from py7zr)\n",
            "  Downloading pyzstd-0.16.0-cp310-cp310-manylinux_2_17_x86_64.manylinux2014_x86_64.whl (413 kB)\n",
            "\u001b[2K     \u001b[90m━━━━━━━━━━━━━━━━━━━━━━━━━━━━━━━━━━━━━━━━\u001b[0m \u001b[32m413.8/413.8 kB\u001b[0m \u001b[31m32.7 MB/s\u001b[0m eta \u001b[36m0:00:00\u001b[0m\n",
            "\u001b[?25hCollecting pyppmd<1.2.0,>=1.1.0 (from py7zr)\n",
            "  Downloading pyppmd-1.1.0-cp310-cp310-manylinux_2_17_x86_64.manylinux2014_x86_64.whl (138 kB)\n",
            "\u001b[2K     \u001b[90m━━━━━━━━━━━━━━━━━━━━━━━━━━━━━━━━━━━━━━━━\u001b[0m \u001b[32m138.9/138.9 kB\u001b[0m \u001b[31m17.9 MB/s\u001b[0m eta \u001b[36m0:00:00\u001b[0m\n",
            "\u001b[?25hCollecting pybcj<1.1.0,>=1.0.0 (from py7zr)\n",
            "  Downloading pybcj-1.0.2-cp310-cp310-manylinux_2_17_x86_64.manylinux2014_x86_64.whl (49 kB)\n",
            "\u001b[2K     \u001b[90m━━━━━━━━━━━━━━━━━━━━━━━━━━━━━━━━━━━━━━━━\u001b[0m \u001b[32m49.7/49.7 kB\u001b[0m \u001b[31m6.8 MB/s\u001b[0m eta \u001b[36m0:00:00\u001b[0m\n",
            "\u001b[?25hCollecting multivolumefile>=0.2.3 (from py7zr)\n",
            "  Downloading multivolumefile-0.2.3-py3-none-any.whl (17 kB)\n",
            "Collecting inflate64<1.1.0,>=1.0.0 (from py7zr)\n",
            "  Downloading inflate64-1.0.0-cp310-cp310-manylinux_2_17_x86_64.manylinux2014_x86_64.whl (93 kB)\n",
            "\u001b[2K     \u001b[90m━━━━━━━━━━━━━━━━━━━━━━━━━━━━━━━━━━━━━━━━\u001b[0m \u001b[32m93.1/93.1 kB\u001b[0m \u001b[31m10.6 MB/s\u001b[0m eta \u001b[36m0:00:00\u001b[0m\n",
            "\u001b[?25hCollecting brotli>=1.1.0 (from py7zr)\n",
            "  Downloading Brotli-1.1.0-cp310-cp310-manylinux_2_5_x86_64.manylinux1_x86_64.manylinux_2_12_x86_64.manylinux2010_x86_64.whl (3.0 MB)\n",
            "\u001b[2K     \u001b[90m━━━━━━━━━━━━━━━━━━━━━━━━━━━━━━━━━━━━━━━━\u001b[0m \u001b[32m3.0/3.0 MB\u001b[0m \u001b[31m51.3 MB/s\u001b[0m eta \u001b[36m0:00:00\u001b[0m\n",
            "\u001b[?25hRequirement already satisfied: psutil in /usr/local/lib/python3.10/dist-packages (from py7zr) (5.9.5)\n",
            "Installing collected packages: texttable, brotli, pyzstd, pyppmd, pycryptodomex, pybcj, multivolumefile, inflate64, py7zr\n",
            "Successfully installed brotli-1.1.0 inflate64-1.0.0 multivolumefile-0.2.3 py7zr-0.21.0 pybcj-1.0.2 pycryptodomex-3.20.0 pyppmd-1.1.0 pyzstd-0.16.0 texttable-1.7.0\n"
          ]
        }
      ],
      "source": [
        "%%script true\n",
        "!pip3 install py7zr\n",
        "from py7zr import SevenZipFile\n",
        "\n",
        "shutil.copy(drive_data + data + \".7z\", '.')\n",
        "\n",
        "with SevenZipFile(data + \".7z\", mode='r') as z:\n",
        "    z.extractall(path=directory_path)"
      ]
    },
    {
      "cell_type": "code",
      "execution_count": null,
      "metadata": {
        "colab": {
          "base_uri": "https://localhost:8080/"
        },
        "id": "ewaOBd4Gnyb-",
        "outputId": "bc7f8c09-22e6-4d13-8a64-8789b6129f16"
      },
      "outputs": [
        {
          "name": "stdout",
          "output_type": "stream",
          "text": [
            "46322\n"
          ]
        }
      ],
      "source": [
        "# counting the element\n",
        "image_count = len(list(data_dir.glob('*/*.jpg')))\n",
        "print(image_count)"
      ]
    },
    {
      "cell_type": "code",
      "execution_count": null,
      "metadata": {
        "id": "qhsh3ayWn_6H"
      },
      "outputs": [],
      "source": [
        "# defining the batch size and the dimension of photo\n",
        "batch_size = 32\n",
        "img_height = 128\n",
        "img_width = 128"
      ]
    },
    {
      "cell_type": "markdown",
      "metadata": {
        "id": "s6OzQTs6kbea"
      },
      "source": [
        "A **batch** is a set of samples used in one iteration of model training. In machine learning, especially in deep learning, data is often divided into batches to improve computational efficiency. Instead of updating the model's parameters after processing each individual sample, batches allow the model to update its parameters after processing multiple samples at once. This helps to speed up the training process and make better use of computational resources"
      ]
    },
    {
      "cell_type": "code",
      "execution_count": null,
      "metadata": {
        "colab": {
          "base_uri": "https://localhost:8080/"
        },
        "id": "Uc_ExKGZoIRx",
        "outputId": "f9934065-47a7-4b8f-956c-ae6ed73a07bd"
      },
      "outputs": [
        {
          "name": "stdout",
          "output_type": "stream",
          "text": [
            "Found 46322 files belonging to 4 classes.\n",
            "Using 34742 files for training.\n"
          ]
        }
      ],
      "source": [
        "train_ds = tf.keras.utils.image_dataset_from_directory(\n",
        "  data_dir,\n",
        "  validation_split=0.25,\n",
        "  subset=\"training\",\n",
        "  seed=123,\n",
        "  image_size=(img_height, img_width),\n",
        "  batch_size=batch_size)"
      ]
    },
    {
      "cell_type": "code",
      "execution_count": null,
      "metadata": {
        "colab": {
          "base_uri": "https://localhost:8080/"
        },
        "id": "zXgA3X9SoNLd",
        "outputId": "61adcb9c-d250-4922-ca71-7b7bf843f427"
      },
      "outputs": [
        {
          "name": "stdout",
          "output_type": "stream",
          "text": [
            "Found 46322 files belonging to 4 classes.\n",
            "Using 11580 files for validation.\n"
          ]
        }
      ],
      "source": [
        "val_test_ds = tf.keras.utils.image_dataset_from_directory(\n",
        "  data_dir,\n",
        "  validation_split=0.25,\n",
        "  subset=\"validation\",\n",
        "  seed=123,\n",
        "  image_size=(img_height, img_width),\n",
        "  batch_size=batch_size)"
      ]
    },
    {
      "cell_type": "code",
      "execution_count": null,
      "metadata": {
        "id": "bIbypGYzU8nw"
      },
      "outputs": [],
      "source": [
        "num_val = int(0.25 * val_test_ds.cardinality().numpy())\n",
        "\n",
        "# Split validation dataset into two parts: validation and test (5% test and 20% validation -> test 25% of validation)\n",
        "val_ds = val_test_ds.take(num_val)\n",
        "test_ds = val_test_ds.skip(num_val)"
      ]
    },
    {
      "cell_type": "code",
      "execution_count": null,
      "metadata": {
        "colab": {
          "base_uri": "https://localhost:8080/"
        },
        "id": "27pxJsn7o0wW",
        "outputId": "54a20fde-7c83-4144-bba2-1d3c8e85eea3"
      },
      "outputs": [
        {
          "name": "stdout",
          "output_type": "stream",
          "text": [
            "['MildDemented', 'ModerateDemented', 'NonDemented', 'VeryMildDemented']\n"
          ]
        }
      ],
      "source": [
        "class_names = train_ds.class_names\n",
        "print(class_names)"
      ]
    },
    {
      "cell_type": "markdown",
      "metadata": {
        "id": "dGpaOdf1l2My"
      },
      "source": [
        "Data Augmentation"
      ]
    },
    {
      "cell_type": "code",
      "execution_count": null,
      "metadata": {
        "id": "2ev5OEc7l18A"
      },
      "outputs": [],
      "source": [
        "rescale = tf.keras.Sequential([\n",
        "    layers.Rescaling(1./255)\n",
        "])\n",
        "\n",
        "data_augmentation = tf.keras.Sequential([\n",
        "    layers.RandomFlip(\"horizontal_and_vertical\"),\n",
        "    layers.RandomRotation(0.2, \"nearest\"),\n",
        "    layers.RandomZoom(0.15, 0.15, \"nearest\")\n",
        "])\n",
        "\n",
        "data_augmentation1 = tf.keras.Sequential([\n",
        "    layers.RandomRotation(0.2, \"nearest\")\n",
        "])\n",
        "\n",
        "data_augmentation2 = tf.keras.Sequential([\n",
        "    layers.RandomZoom(0.15, 0.15, \"nearest\")\n",
        "])\n",
        "\n",
        "data_augmentation3 = tf.keras.Sequential([\n",
        "    layers.RandomTranslation(0.15, 0.15, \"nearest\")\n",
        "])\n",
        "\n",
        "def prepare(image, train = True, mode = 2):\n",
        "    if mode == 0:\n",
        "      return data_augmentation(rescale(image), training = train)\n",
        "\n",
        "    if mode == 1:\n",
        "      return rescale(image)\n",
        "\n",
        "    val = np.random.randint(3)\n",
        "    if val == 0:\n",
        "      return data_augmentation1(rescale(image), training = train)\n",
        "    elif val == 1:\n",
        "      return data_augmentation2(rescale(image), training = train)\n",
        "    return data_augmentation3(rescale(image), training = train)"
      ]
    },
    {
      "cell_type": "code",
      "execution_count": null,
      "metadata": {
        "id": "hfVuRryvFhh3"
      },
      "outputs": [],
      "source": [
        "# Original\n",
        "class CustomNN(Model):\n",
        "    def __init__(self):\n",
        "        super(CustomNN, self).__init__()\n",
        "        # Definizione dei layer\n",
        "        self.conv1 = Conv2D(16, (3, 3), activation='relu', padding='same', input_shape=(128, 128, 1))\n",
        "         # The first convolutional layer with 16 filters, 3x3 kernel size, ReLU activation, and same padding\n",
        "        self.pool1 = MaxPooling2D((2, 2), strides=(2, 2))\n",
        "        self.conv2 = Conv2D(32, (3, 3), activation='relu', padding='same')\n",
        "        self.pool2 = MaxPooling2D((2, 2), strides=(2, 2))\n",
        "        self.conv3 = Conv2D(64, (3, 3), activation='relu', strides=(2, 2))\n",
        "        self.flatten = Flatten()\n",
        "        self.fc1 = Dense(512, activation='relu')\n",
        "        self.fc2 = Dense(4, activation='softmax') # The second fully connected layer with softmax activation (for classification)\n",
        "\n",
        "    def call(self, x):\n",
        "         # Defining the input flow through the layers\n",
        "        x = self.conv1(x)\n",
        "        x = self.pool1(x)\n",
        "        x = self.conv2(x)\n",
        "        x = self.pool2(x)\n",
        "        x = self.conv3(x)\n",
        "        x = self.flatten(x)\n",
        "        x = self.fc1(x)\n",
        "        x = self.fc2(x)\n",
        "        return x\n",
        "\n",
        "    # from papar: https://www.frontiersin.org/journals/public-health/articles/10.3389/fpubh.2022.834032/full\n",
        "    # NN di riferimento\n",
        "    # Layers                  Kernel size/stride       Size\n",
        "    #Imge size                                         160 x 160 x 1\n",
        "    #Convolution L(C1)        3 x 3/1                  158 x 158 x 16\n",
        "    #Polling Layer 1 (P1)     2 x 2/2                  79 x 79 x 16\n",
        "    #Convolution L(C2)        3 x 3/1                  39 x 39 x 32\n",
        "    #Polling Layer 1 (P1)     2 x 2/2                  20 x 20 x 32\n",
        "    #Convolution L(C3)        3 x 3/2                  10 x 10 x 64\n",
        "    #Flatten                                           6400\n",
        "    #Fully connected Layer    512                      512\n",
        "    #Soft Max                 2                        2"
      ]
    },
    {
      "cell_type": "code",
      "execution_count": null,
      "metadata": {
        "id": "c7XGDMr9D9LK"
      },
      "outputs": [],
      "source": [
        "# Original, added another convolutional layer\n",
        "class CustomNN1(Model):\n",
        "    def __init__(self):\n",
        "        super(CustomNN1, self).__init__()\n",
        "        # Definizione dei layer\n",
        "        self.conv1 = Conv2D(16, (3, 3), activation='relu', padding='same', input_shape=(128, 128, 1))\n",
        "         # The first convolutional layer with 16 filters, 3x3 kernel size, ReLU activation, and same padding\n",
        "        self.pool1 = MaxPooling2D((2, 2), strides=(2, 2))\n",
        "        self.conv2 = Conv2D(32, (3, 3), activation='relu', padding='same')\n",
        "        self.pool2 = MaxPooling2D((2, 2), strides=(2, 2))\n",
        "        self.conv3 = Conv2D(64, (3, 3), activation='relu', padding='same')\n",
        "        self.pool3 = MaxPooling2D((2, 2), strides=(2, 2))\n",
        "        self.conv4 = Conv2D(128, (3, 3), activation='relu', strides=(2, 2))\n",
        "        self.flatten = Flatten()\n",
        "        self.fc1 = Dense(512, activation='relu')\n",
        "        self.fc2 = Dense(4, activation='softmax') # The second fully connected layer with softmax activation (for classification)\n",
        "\n",
        "    def call(self, x):\n",
        "         # Defining the input flow through the layers\n",
        "        x = self.conv1(x)\n",
        "        x = self.pool1(x)\n",
        "        x = self.conv2(x)\n",
        "        x = self.pool2(x)\n",
        "        x = self.conv3(x)\n",
        "        x = self.pool3(x)\n",
        "        x = self.conv4(x)\n",
        "        x = self.flatten(x)\n",
        "        x = self.fc1(x)\n",
        "        x = self.fc2(x)\n",
        "        return x\n",
        "\n",
        "    # from papar: https://www.frontiersin.org/journals/public-health/articles/10.3389/fpubh.2022.834032/full\n",
        "    # NN di riferimento\n",
        "    # Layers                  Kernel size/stride       Size\n",
        "    #Imge size                                         160 x 160 x 1\n",
        "    #Convolution L(C1)        3 x 3/1                  158 x 158 x 16\n",
        "    #Polling Layer 1 (P1)     2 x 2/2                  79 x 79 x 16\n",
        "    #Convolution L(C2)        3 x 3/1                  39 x 39 x 32\n",
        "    #Polling Layer 1 (P1)     2 x 2/2                  20 x 20 x 32\n",
        "    #Convolution L(C3)        3 x 3/2                  10 x 10 x 64\n",
        "    #Flatten                                           6400\n",
        "    #Fully connected Layer    512                      512\n",
        "    #Soft Max                 2                        2"
      ]
    },
    {
      "cell_type": "code",
      "execution_count": null,
      "metadata": {
        "id": "vX4S3LATcTIH"
      },
      "outputs": [],
      "source": [
        "# Second Paper\n",
        "class CustomNN2(Model):\n",
        "    def __init__(self):\n",
        "        super(CustomNN2, self).__init__()\n",
        "        # Definizione dei layer\n",
        "        self.conv1 = Conv2D(8, (3, 3), activation='relu', padding='same', input_shape=(128, 128, 1))\n",
        "         # The first convolutional layer with 16 filters, 3x3 kernel size, ReLU activation, and same padding\n",
        "        self.pool1 = MaxPooling2D((4, 4), strides=(2, 2))\n",
        "        self.conv2 = Conv2D(16, (3, 3), activation='relu', padding='same')\n",
        "        self.pool2 = MaxPooling2D((3, 3), strides=(2, 2))\n",
        "        self.conv3 = Conv2D(32, (3, 3), activation='relu', padding='same')\n",
        "        self.pool3 = MaxPooling2D((2, 2), strides=(2, 2))\n",
        "        self.conv4 = Conv2D(64, (3, 3), activation='relu', strides=(2, 2))\n",
        "        self.pool4 = MaxPooling2D((2, 2), strides=(2, 2))\n",
        "        self.flatten = Flatten()\n",
        "        self.fc1 = Dense(256, activation='relu')\n",
        "        self.fc2 = Dense(4, activation='softmax') # The second fully connected layer with softmax activation (for classification)\n",
        "\n",
        "    def call(self, x):\n",
        "         # Defining the input flow through the layers\n",
        "        x = self.conv1(x)\n",
        "        x = self.pool1(x)\n",
        "        x = self.conv2(x)\n",
        "        x = self.pool2(x)\n",
        "        x = self.conv3(x)\n",
        "        x = self.pool3(x)\n",
        "        x = self.conv4(x)\n",
        "        x = self.pool4(x)\n",
        "        x = self.flatten(x)\n",
        "        x = self.fc1(x)\n",
        "        x = self.fc2(x)\n",
        "        return x\n",
        "\n",
        "    # from papar: https://www.frontiersin.org/journals/public-health/articles/10.3389/fpubh.2022.834032/full\n",
        "    # NN di riferimento\n",
        "    # Layers                  Kernel size/stride       Size\n",
        "    #Imge size                                         160 x 160 x 1\n",
        "    #Convolution L(C1)        3 x 3/1                  158 x 158 x 16\n",
        "    #Polling Layer 1 (P1)     2 x 2/2                  79 x 79 x 16\n",
        "    #Convolution L(C2)        3 x 3/1                  39 x 39 x 32\n",
        "    #Polling Layer 1 (P1)     2 x 2/2                  20 x 20 x 32\n",
        "    #Convolution L(C3)        3 x 3/2                  10 x 10 x 64\n",
        "    #Flatten                                           6400\n",
        "    #Fully connected Layer    512                      512\n",
        "    #Soft Max                 2                        2"
      ]
    },
    {
      "cell_type": "code",
      "execution_count": null,
      "metadata": {
        "id": "lXxOOElaECWC"
      },
      "outputs": [],
      "source": [
        "# Original, removed a convolutional layer\n",
        "class CustomNN3(Model):\n",
        "    def __init__(self):\n",
        "        super(CustomNN3, self).__init__()\n",
        "        # Definizione dei layer\n",
        "        self.conv1 = Conv2D(16, (3, 3), activation='relu', padding='same', input_shape=(128, 128, 1))\n",
        "         # The first convolutional layer with 16 filters, 3x3 kernel size, ReLU activation, and same padding\n",
        "        self.pool1 = MaxPooling2D((2, 2), strides=(2, 2))\n",
        "        self.conv2 = Conv2D(32, (3, 3), activation='relu', padding='same')\n",
        "        self.pool2 = MaxPooling2D((2, 2), strides=(2, 2))\n",
        "        self.conv3 = Conv2D(64, (3, 3), activation='relu', strides=(2, 2))\n",
        "        self.flatten = Flatten()\n",
        "        self.fc1 = Dense(512, activation='relu')\n",
        "        self.fc2 = Dense(4, activation='softmax') # The second fully connected layer with softmax activation (for classification)\n",
        "\n",
        "    def call(self, x):\n",
        "         # Defining the input flow through the layers\n",
        "        x = self.conv1(x)\n",
        "        x = self.pool1(x)\n",
        "        x = self.conv2(x)\n",
        "        x = self.pool2(x)\n",
        "        x = self.conv3(x)\n",
        "        x = self.flatten(x)\n",
        "        x = self.fc1(x)\n",
        "        x = self.fc2(x)\n",
        "        return x\n",
        "\n",
        "    # from papar: https://www.frontiersin.org/journals/public-health/articles/10.3389/fpubh.2022.834032/full\n",
        "    # NN di riferimento\n",
        "    # Layers                  Kernel size/stride       Size\n",
        "    #Imge size                                         160 x 160 x 1\n",
        "    #Convolution L(C1)        3 x 3/1                  158 x 158 x 16\n",
        "    #Polling Layer 1 (P1)     2 x 2/2                  79 x 79 x 16\n",
        "    #Convolution L(C2)        3 x 3/1                  39 x 39 x 32\n",
        "    #Polling Layer 1 (P1)     2 x 2/2                  20 x 20 x 32\n",
        "    #Convolution L(C3)        3 x 3/2                  10 x 10 x 64\n",
        "    #Flatten                                           6400\n",
        "    #Fully connected Layer    512                      512\n",
        "    #Soft Max                 2                        2"
      ]
    },
    {
      "cell_type": "code",
      "execution_count": null,
      "metadata": {
        "id": "PTsqdhHsV5_q"
      },
      "outputs": [],
      "source": [
        "# Second paper with 8 CVL\n",
        "class CustomNN4(Model):\n",
        "    def __init__(self):\n",
        "        super(CustomNN4, self).__init__()\n",
        "        # Definizione dei layer\n",
        "        self.conv1 = Conv2D(8, (3, 3), activation='relu', padding='same', input_shape=(128, 128, 1))\n",
        "        self.conv2 = Conv2D(8, (3, 3), activation='relu', padding='same')\n",
        "        self.pool1 = MaxPooling2D((4, 4), strides=(2, 2))\n",
        "        self.conv3 = Conv2D(16, (3, 3), activation='relu', padding='same')\n",
        "        self.conv4 = Conv2D(16, (3, 3), activation='relu', padding='same')\n",
        "        self.pool2 = MaxPooling2D((3, 3), strides=(2, 2))\n",
        "        self.conv5 = Conv2D(32, (3, 3), activation='relu', padding='same')\n",
        "        self.conv6 = Conv2D(32, (3, 3), activation='relu', padding='same')\n",
        "        self.pool3 = MaxPooling2D((2, 2), strides=(2, 2))\n",
        "        self.conv7 = Conv2D(64, (3, 3), activation='relu', padding='same')\n",
        "        self.conv8 = Conv2D(64, (3, 3), activation='relu', strides=(2, 2))\n",
        "        self.pool4 = MaxPooling2D((2, 2), strides=(2, 2))\n",
        "        self.flatten = Flatten()\n",
        "        self.fc1 = Dense(256, activation='relu')\n",
        "        self.fc2 = Dense(4, activation='softmax') # The second fully connected layer with softmax activation (for classification)\n",
        "\n",
        "    def call(self, x):\n",
        "         # Defining the input flow through the layers\n",
        "        x = self.conv1(x)\n",
        "        x = self.conv2(x)\n",
        "        x = self.pool1(x)\n",
        "        x = self.conv3(x)\n",
        "        x = self.conv4(x)\n",
        "        x = self.pool2(x)\n",
        "        x = self.conv5(x)\n",
        "        x = self.conv6(x)\n",
        "        x = self.pool3(x)\n",
        "        x = self.conv7(x)\n",
        "        x = self.conv8(x)\n",
        "        x = self.pool4(x)\n",
        "        x = self.flatten(x)\n",
        "        x = self.fc1(x)\n",
        "        x = self.fc2(x)\n",
        "        return x\n",
        "\n",
        "    # from papar: https://www.frontiersin.org/journals/public-health/articles/10.3389/fpubh.2022.834032/full\n",
        "    # NN di riferimento\n",
        "    # Layers                  Kernel size/stride       Size\n",
        "    #Imge size                                         160 x 160 x 1\n",
        "    #Convolution L(C1)        3 x 3/1                  158 x 158 x 16\n",
        "    #Polling Layer 1 (P1)     2 x 2/2                  79 x 79 x 16\n",
        "    #Convolution L(C2)        3 x 3/1                  39 x 39 x 32\n",
        "    #Polling Layer 1 (P1)     2 x 2/2                  20 x 20 x 32\n",
        "    #Convolution L(C3)        3 x 3/2                  10 x 10 x 64\n",
        "    #Flatten                                           6400\n",
        "    #Fully connected Layer    512                      512\n",
        "    #Soft Max                 2                        2"
      ]
    },
    {
      "cell_type": "code",
      "execution_count": null,
      "metadata": {
        "id": "_Q25CLQPYfJa"
      },
      "outputs": [],
      "source": [
        "# Martin version 1\n",
        "class CustomNN5(Model):\n",
        "    def __init__(self):\n",
        "        super(CustomNN5, self).__init__()\n",
        "        self.conv1 = Conv2D(32, (3, 3), activation='relu', padding='same', input_shape=(128, 128, 1))\n",
        "        self.pool1 = MaxPooling2D((2, 2), strides=(2, 2))\n",
        "        self.conv2 = Conv2D(64, (3, 3), activation='relu', padding='same')\n",
        "        self.pool2 = MaxPooling2D((2, 2), strides=(2, 2))\n",
        "        self.conv3 = Conv2D(128, (3, 3), activation='relu', strides=(2, 2))\n",
        "        self.pool3 = MaxPooling2D((2, 2), strides=(2, 2))\n",
        "        # Adding a global average pooling layer to reduce the dimensions instead of flattening\n",
        "        self.global_pool = GlobalAveragePooling2D()\n",
        "        self.fc1 = Dense(128, activation='relu')\n",
        "        self.fc2 = Dense(4, activation='softmax')\n",
        "\n",
        "    def call(self, x):\n",
        "        x = self.conv1(x)\n",
        "        x = self.pool1(x)\n",
        "        x = self.conv2(x)\n",
        "        x = self.pool2(x)\n",
        "        x = self.conv3(x)\n",
        "        x = self.pool3(x)\n",
        "        x = self.global_pool(x)\n",
        "        x = self.fc1(x)\n",
        "        x = self.fc2(x)\n",
        "        return x"
      ]
    },
    {
      "cell_type": "code",
      "execution_count": null,
      "metadata": {
        "id": "WU7y7A6aatTw"
      },
      "outputs": [],
      "source": [
        "# Sam version\n",
        "class CustomNN6(Model):\n",
        "    def __init__(self):\n",
        "        super(CustomNN6, self).__init__()\n",
        "        self.conv1 = Conv2D(4, (3, 3), activation='relu', padding='same', input_shape=(128, 128, 1))\n",
        "        self.pool1 = MaxPooling2D((3, 3), strides=(2, 2))\n",
        "        self.conv2 = Conv2D(8, (3, 3), activation='relu', padding='same')\n",
        "        self.pool2 = MaxPooling2D((3, 3), strides=(2, 2))\n",
        "        self.conv3 = Conv2D(16, (3, 3), activation='relu', padding='same')\n",
        "        self.pool3 = MaxPooling2D((2, 2), strides=(2, 2))\n",
        "        self.conv4 = Conv2D(32, (3, 3), activation='relu', padding='same')\n",
        "        self.pool4 = MaxPooling2D((2, 2), strides=(2, 2))\n",
        "        self.flatten = Flatten()\n",
        "        self.bn = BatchNormalization()\n",
        "        self.fc1 = Dense(256, activation='leaky_relu')\n",
        "        self.drop1 = Dropout(0.45) # Drop some nodes during training (prevents overfitting)\n",
        "        self.fc2 = Dense(8, activation='relu')\n",
        "        self.drop2 = Dropout(0.4) # Drop some nodes during training (prevents overfitting)\n",
        "        self.fc3 = Dense(4, activation='softmax')\n",
        "\n",
        "    def call(self, x):\n",
        "        x = self.conv1(x)\n",
        "        x = self.pool1(x)\n",
        "        x = self.conv2(x)\n",
        "        x = self.pool2(x)\n",
        "        x = self.conv3(x)\n",
        "        x = self.pool3(x)\n",
        "        x = self.conv4(x)\n",
        "        x = self.pool4(x)\n",
        "        x = self.flatten(x)\n",
        "        x = self.bn(x)\n",
        "        x = self.fc1(x)\n",
        "        x = self.drop1(x)\n",
        "        x = self.fc2(x)\n",
        "        x = self.drop2(x)\n",
        "        x = self.fc3(x)\n",
        "        return x"
      ]
    },
    {
      "cell_type": "code",
      "execution_count": null,
      "metadata": {
        "id": "1pfYEOgMe6dX"
      },
      "outputs": [],
      "source": [
        "# Martin version 2\n",
        "class CustomNN7(Model):\n",
        "    def __init__(self):\n",
        "        super(CustomNN7, self).__init__()\n",
        "        self.conv1 = Conv2D(16, (3, 3), padding='same', input_shape=(128, 128, 1))\n",
        "        self.bn1 = BatchNormalization()\n",
        "        self.pool1 = MaxPooling2D((2, 2), strides=(2, 2))\n",
        "        self.conv2 = Conv2D(32, (3, 3), padding='same')\n",
        "        self.bn2 = BatchNormalization()\n",
        "        self.pool2 = MaxPooling2D((2, 2), strides=(2, 2))\n",
        "        self.conv3 = Conv2D(64, (3, 3), strides=(2, 2))\n",
        "        self.bn3 = BatchNormalization()\n",
        "        self.flatten = Flatten()\n",
        "        self.fc1 = Dense(512, activation='relu')\n",
        "        self.dropout = Dropout(0.5)\n",
        "        self.fc2 = Dense(4, activation='softmax')\n",
        "\n",
        "    def call(self, x):\n",
        "        x = self.conv1(x)\n",
        "        x = self.bn1(x)\n",
        "        x = self.pool1(x)\n",
        "        x = self.conv2(x)\n",
        "        x = self.bn2(x)\n",
        "        x = self.pool2(x)\n",
        "        x = self.conv3(x)\n",
        "        x = self.bn3(x)\n",
        "        x = self.flatten(x)\n",
        "        x = self.fc1(x)\n",
        "        x = self.dropout(x)\n",
        "        x = self.fc2(x)\n",
        "        return x"
      ]
    },
    {
      "cell_type": "code",
      "execution_count": null,
      "metadata": {
        "id": "PWirkvvFQOG1"
      },
      "outputs": [],
      "source": [
        "# Martin version 3 (Separable Convolutional Layers)\n",
        "class CustomNN8(Model):\n",
        "    def __init__(self):\n",
        "        super(CustomNN8, self).__init__()\n",
        "        self.conv1 = SeparableConv2D(32, (3, 3), padding='same', input_shape=(128, 128, 1))\n",
        "        self.bn1 = BatchNormalization()\n",
        "        self.pool1 = MaxPooling2D((2, 2), strides=(2, 2))\n",
        "        self.conv2 = SeparableConv2D(64, (3, 3), padding='same')\n",
        "        self.bn2 = BatchNormalization()\n",
        "        self.pool2 = MaxPooling2D((2, 2), strides=(2, 2))\n",
        "        self.conv3 = SeparableConv2D(128, (3, 3), strides=(2, 2))\n",
        "        self.bn3 = BatchNormalization()\n",
        "        self.pool3 = MaxPooling2D((2, 2), strides=(2, 2))\n",
        "        self.flatten = Flatten()\n",
        "        self.fc1 = Dense(256, activation='relu')\n",
        "        self.dropout = Dropout(0.5)\n",
        "        self.fc2 = Dense(4, activation='softmax')\n",
        "\n",
        "    def call(self, x):\n",
        "        x = self.conv1(x)\n",
        "        x = self.bn1(x)\n",
        "        x = self.pool1(x)\n",
        "        x = self.conv2(x)\n",
        "        x = self.bn2(x)\n",
        "        x = self.pool2(x)\n",
        "        x = self.conv3(x)\n",
        "        x = self.bn3(x)\n",
        "        x = self.pool3(x)\n",
        "        x = self.flatten(x)\n",
        "        x = self.fc1(x)\n",
        "        x = self.dropout(x)\n",
        "        x = self.fc2(x)\n",
        "        return x"
      ]
    },
    {
      "cell_type": "code",
      "execution_count": null,
      "metadata": {
        "id": "W4fG2ch2QPoQ"
      },
      "outputs": [],
      "source": [
        "# Martin version 4 (Global Average Pooling)\n",
        "class CustomNN9(Model):\n",
        "    def __init__(self):\n",
        "        super(CustomNN9, self).__init__()\n",
        "        self.conv1 = Conv2D(32, (3, 3), padding='same', input_shape=(128, 128, 1))\n",
        "        self.conv2 = Conv2D(32, (3, 3), padding='same')\n",
        "        self.pool1 = MaxPooling2D((2, 2), strides=(2, 2))\n",
        "        self.conv3 = Conv2D(64, (3, 3), padding='same')\n",
        "        self.conv4 = Conv2D(64, (3, 3), padding='same')\n",
        "        self.pool2 = MaxPooling2D((2, 2), strides=(2, 2))\n",
        "        self.global_pool = GlobalAveragePooling2D()\n",
        "        self.fc1 = Dense(128, activation='relu')\n",
        "        self.dropout = Dropout(0.5)\n",
        "        self.fc2 = Dense(4, activation='softmax')\n",
        "\n",
        "    def call(self, x):\n",
        "        x = self.conv1(x)\n",
        "        x = self.conv2(x)\n",
        "        x = self.pool1(x)\n",
        "        x = self.conv3(x)\n",
        "        x = self.conv4(x)\n",
        "        x = self.pool2(x)\n",
        "        x = self.global_pool(x)\n",
        "        x = self.fc1(x)\n",
        "        x = self.dropout(x)\n",
        "        x = self.fc2(x)\n",
        "        return x"
      ]
    },
    {
      "cell_type": "code",
      "execution_count": null,
      "metadata": {
        "id": "BzqwAwf2QSUf"
      },
      "outputs": [],
      "source": [
        "# Martin version 5 (Residual Connections)\n",
        "class CustomNN10(Model):\n",
        "    def __init__(self):\n",
        "        super(CustomNN10, self).__init__()\n",
        "        self.conv1 = Conv2D(32, (3, 3), padding='same', input_shape=(128, 128, 1))\n",
        "        self.bn1 = BatchNormalization()\n",
        "        self.conv2 = Conv2D(32, (3, 3), padding='same')\n",
        "        self.bn2 = BatchNormalization()\n",
        "        self.add = Add()\n",
        "        self.pool1 = MaxPooling2D((2, 2), strides=(2, 2))\n",
        "        self.conv3 = Conv2D(64, (3, 3), padding='same')\n",
        "        self.bn3 = BatchNormalization()\n",
        "        self.conv4 = Conv2D(64, (3, 3), padding='same')\n",
        "        self.bn4 = BatchNormalization()\n",
        "        #self.add2 = Add()\n",
        "        self.global_pool = GlobalAveragePooling2D()\n",
        "        self.fc1 = Dense(128, activation='relu')\n",
        "        self.dropout = Dropout(0.5)\n",
        "        self.fc2 = Dense(4, activation='softmax')\n",
        "\n",
        "    def call(self, x):\n",
        "        x_copy = x\n",
        "        x = self.conv1(x)\n",
        "        x = self.bn1(x)\n",
        "        x_copy = self.conv2(x_copy)\n",
        "        x_copy = self.bn2(x_copy)\n",
        "        x = self.add([x, x_copy])\n",
        "        x_copy = x = self.pool1(x)\n",
        "        x = self.conv3(x)\n",
        "        x = self.bn3(x)\n",
        "        x_copy = self.conv4(x_copy)\n",
        "        x_copy = self.bn4(x_copy)\n",
        "        x = self.add([x, x_copy])\n",
        "        x = self.global_pool(x)\n",
        "        x = self.fc1(x)\n",
        "        x = self.dropout(x)\n",
        "        x = self.fc2(x)\n",
        "        return x"
      ]
    },
    {
      "cell_type": "code",
      "execution_count": null,
      "metadata": {
        "colab": {
          "base_uri": "https://localhost:8080/"
        },
        "id": "ImkixuMdwhBS",
        "outputId": "a54e8dba-d263-4584-9775-d4c6ee7ff8b7"
      },
      "outputs": [
        {
          "name": "stdout",
          "output_type": "stream",
          "text": [
            "Downloading data from https://storage.googleapis.com/tensorflow/keras-applications/resnet/resnet50_weights_tf_dim_ordering_tf_kernels_notop.h5\n",
            "94765736/94765736 [==============================] - 1s 0us/step\n"
          ]
        }
      ],
      "source": [
        "# CustomNN11 (ResNet50)\n",
        "resnet50 = ResNet50(weights='imagenet',\n",
        "                    input_shape=(128, 128, 3), # 3 channels because of imagenet\n",
        "                    include_top=False)\n",
        "\n",
        "def CustomNN11():\n",
        "    x = GlobalAveragePooling2D()(resnet50.output)\n",
        "    output = Dense(4, activation='softmax')(x)\n",
        "\n",
        "    return Model(inputs=resnet50.input, outputs=output)"
      ]
    },
    {
      "cell_type": "code",
      "execution_count": null,
      "metadata": {
        "id": "rxJx6VmSLYAQ"
      },
      "outputs": [],
      "source": [
        "from tensorflow.keras.regularizers import l2\n",
        "\n",
        "# Load the ResNet50 model with pre-trained weights from ImageNet\n",
        "resnet50 = ResNet50(weights='imagenet',\n",
        "                    input_shape=(128, 128, 3), # 3 channels because of ImageNet\n",
        "                    include_top=False)\n",
        "\n",
        "# Define the custom model with L2 regularization\n",
        "def CustomNN11bis():\n",
        "    x = GlobalAveragePooling2D()(resnet50.output)\n",
        "    output = Dense(4, activation='softmax', kernel_regularizer=l2(1))(x) # L2 regularization\n",
        "\n",
        "    return Model(inputs=resnet50.input, outputs=output)"
      ]
    },
    {
      "cell_type": "code",
      "execution_count": null,
      "metadata": {
        "id": "1XAkhK-88-oU"
      },
      "outputs": [],
      "source": [
        "# Majority Vote Model\n",
        "class CustomNN12(tf.keras.Model):\n",
        "    def __init__(self, models):\n",
        "        super(CustomNN12, self).__init__()\n",
        "        self.models = models\n",
        "\n",
        "    def call(self, inputs):\n",
        "        predictions = tf.convert_to_tensor([model(inputs) for model in self.models])\n",
        "        # Compute the majority vote\n",
        "        predictions_stack = tf.stack(predictions, axis=0)\n",
        "        return tf.reduce_mean(predictions_stack, axis=0)"
      ]
    },
    {
      "cell_type": "code",
      "execution_count": null,
      "metadata": {
        "id": "bBZ5KQuU4Ess"
      },
      "outputs": [],
      "source": [
        "# Majority Vote Model (re-implemented)\n",
        "class CustomNN12bis(tf.keras.Model):\n",
        "    def __init__(self, models):\n",
        "        super(CustomNN12bis, self).__init__()\n",
        "        self.models = models\n",
        "\n",
        "    def call(self, inputs):\n",
        "        predictions = tf.convert_to_tensor([model(inputs) for model in self.models])\n",
        "\n",
        "        # Get votes of each model\n",
        "        votes = np.sum(np.eye(predictions[0].shape[1])[np.argmax(predictions, axis=2)], axis=0)\n",
        "        '''\n",
        "        votes = np.zeros_like(predictions[0].numpy())\n",
        "        for model_vote in predictions:\n",
        "            indexes = model_vote.argmax(axis=1)\n",
        "            for row, index in enumerate(indexes):\n",
        "                votes[row, index] += 1\n",
        "        '''\n",
        "\n",
        "        # Normalize the votes\n",
        "        return tf.convert_to_tensor(votes / votes.sum(axis=1)[:, np.newaxis])"
      ]
    },
    {
      "cell_type": "code",
      "execution_count": null,
      "metadata": {
        "id": "QNQFKFKYyKdb"
      },
      "outputs": [],
      "source": [
        "# Majority Vote Model (re-implemented v2)\n",
        "class CustomNN12tris(tf.keras.Model):\n",
        "    def __init__(self, models, accuracies):\n",
        "        super(CustomNN12tris, self).__init__()\n",
        "        self.models = models\n",
        "        self.accuracies = accuracies\n",
        "\n",
        "    def call(self, inputs):\n",
        "        predictions = tf.convert_to_tensor([model(inputs) for model in self.models])\n",
        "\n",
        "        # Get votes of each model (weighted based on the accuracy of the model)\n",
        "        #votes = np.sum(predictions * self.accuracies, axis=0)\n",
        "        for index, model_votes in enumerate(predictions):\n",
        "            model_votes *= self.accuracies[index]\n",
        "        votes = np.sum(predictions, axis=0)\n",
        "\n",
        "        # Normalize the votes\n",
        "        return tf.convert_to_tensor(votes / votes.sum(axis=1)[:, np.newaxis])"
      ]
    },
    {
      "cell_type": "markdown",
      "metadata": {
        "id": "WI5fntZ7k0Sd"
      },
      "source": [
        "**Convolutional Neural Network (CNN):**\n",
        "\n",
        "A Convolutional Neural Network (CNN) is a type of artificial neural network commonly used for image classification, object detection, and other tasks related to computer vision. CNNs are designed to automatically and adaptively learn spatial hierarchies of features from input images. They consist of multiple layers, including convolutional layers, pooling layers, and fully connected layers. CNNs have revolutionized the field of computer vision and are widely used in various applications, including image recognition, medical image analysis, and autonomous driving.\n",
        "\n",
        "**Fully Connected Layer:**\n",
        "\n",
        "\n",
        "A fully connected layer, also known as a dense layer, is a type of layer in a neural network where each neuron is connected to every neuron in the previous layer. In a fully connected layer, each neuron receives input from all the neurons in the previous layer and produces an output that is passed to all the neurons in the next layer. Fully connected layers are typically used in the later stages of a neural network to perform classification or regression tasks based on the learned features.\n",
        "\n",
        "**Dropout:**\n",
        "\n",
        "\n",
        "Dropout is a regularization technique used in neural networks to prevent overfitting. During training, dropout randomly disables a fraction of neurons in the network, forcing the network to learn redundant representations of the data. This helps to prevent the network from relying too heavily on any one feature, making it more robust and generalizable. Dropout is applied during training but not during inference, where all neurons are used.\n",
        "\n",
        "**Flatten Layer:**\n",
        "\n",
        "\n",
        "A flatten layer is a type of layer in a neural network that is used to convert multidimensional input data into a one-dimensional array. This is often necessary when transitioning from convolutional layers, which operate on multidimensional data such as images, to fully connected layers, which require one-dimensional input. The flatten layer reshapes the input data without changing its content, allowing it to be processed by the fully connected layers."
      ]
    },
    {
      "cell_type": "markdown",
      "metadata": {
        "id": "0sPIeT6ho8u3"
      },
      "source": [
        "**optimizer**='*adam*':\n",
        "\n",
        "Adam is an optimization algorithm that is commonly used for training neural networks. It dynamically adjusts the learning rate during training, which can lead to faster convergence and better performance.\n",
        "\n",
        "\n",
        "**loss**='*sparse_categorical_crossentropy*':\n",
        "\n",
        "This specifies the loss function used during training. Cross-entropy loss is often used for classification problems. In this case, 'sparse_categorical_crossentropy' is used because the labels are integers (not one-hot encoded). This loss function calculates the difference between the predicted probabilities and the true labels.\n",
        "\n",
        "\n",
        "**metrics**=['*accuracy*']:\n",
        "\n",
        "During training, it's useful to monitor certain metrics to evaluate the performance of the model. 'accuracy' is a common metric for classification problems, which measures the proportion of correctly classified examples."
      ]
    },
    {
      "cell_type": "markdown",
      "metadata": {
        "id": "n07KECkCkrZj"
      },
      "source": [
        "An **epoch** is a complete pass through the entire dataset during the training process. In other words, it represents one cycle of training where the model sees and learns from all the training examples. During each epoch, the model's parameters are adjusted multiple times as it processes batches of data. Training typically involves running multiple epochs to allow the model to learn from the data more effectively."
      ]
    },
    {
      "cell_type": "code",
      "execution_count": null,
      "metadata": {
        "colab": {
          "base_uri": "https://localhost:8080/"
        },
        "id": "2gMr-f3nvHMX",
        "outputId": "c40fdfa3-6c78-457e-ff3b-af766e08a95a"
      },
      "outputs": [
        {
          "data": {
            "text/plain": [
              "[]"
            ]
          },
          "execution_count": 29,
          "metadata": {},
          "output_type": "execute_result"
        }
      ],
      "source": [
        "tf.config.list_physical_devices('GPU')"
      ]
    },
    {
      "cell_type": "code",
      "execution_count": null,
      "metadata": {
        "id": "uslphbjxyGEB"
      },
      "outputs": [],
      "source": [
        "import matplotlib.pyplot as plt\n",
        "\n",
        "def printPlot(epochs, acc, val_acc, loss, val_loss):\n",
        "    epochs_range = range(epochs)\n",
        "\n",
        "    plt.figure(figsize=(12, 8))\n",
        "    plt.subplot(1, 2, 1)\n",
        "    plt.plot(epochs_range, acc, label='Training Accuracy')\n",
        "    plt.plot(epochs_range, val_acc, label='Validation Accuracy')\n",
        "    plt.legend(loc='lower right')\n",
        "    plt.title('Training and Validation Accuracy')\n",
        "\n",
        "    plt.subplot(1, 2, 2)\n",
        "    plt.plot(epochs_range, loss, label='Training Loss')\n",
        "    plt.plot(epochs_range, val_loss, label='Validation Loss')\n",
        "    plt.legend(loc='upper right')\n",
        "    plt.title('Training and Validation Loss')\n",
        "    plt.show()"
      ]
    },
    {
      "cell_type": "markdown",
      "metadata": {
        "id": "8dxly5OhhKRJ"
      },
      "source": [
        "Best Models:\n",
        "- M4: 2, 1\n",
        "- M2: 3, 3\n",
        "- M1: 1, 4\n",
        "- M: 7, 2\n",
        "- M3: 6, 5\n",
        "- M5: 4, ...\n",
        "- M7: 5, ..."
      ]
    },
    {
      "cell_type": "code",
      "execution_count": null,
      "metadata": {
        "id": "hSh_D4LwSt5_"
      },
      "outputs": [],
      "source": [
        "def split_dataset(dataset, num_splits):\n",
        "    # Conta il numero di campioni nel dataset\n",
        "    num_samples = dataset.cardinality().numpy()\n",
        "\n",
        "    if num_samples == tf.data.UNKNOWN_CARDINALITY: # ... = -2\n",
        "        num_samples = 0\n",
        "        for _ in dataset:\n",
        "            num_samples += 1\n",
        "\n",
        "    assert num_samples > 0, \"Error: Not a valid Cardinality!\"\n",
        "\n",
        "    # Calcola il numero di campioni per ciascun split\n",
        "    samples_per_split = num_samples // num_splits\n",
        "\n",
        "    # Dividi il dataset in num_splits parti uguali\n",
        "    dataset_splits = []\n",
        "    for i in range(num_splits):\n",
        "        # Seleziona i campioni corrispondenti all'indice\n",
        "        split_dataset = dataset.skip(i * samples_per_split).take(samples_per_split)\n",
        "        dataset_splits.append(split_dataset)\n",
        "    return dataset_splits"
      ]
    },
    {
      "cell_type": "code",
      "execution_count": null,
      "metadata": {
        "id": "tk7dYUqiTSux"
      },
      "outputs": [],
      "source": [
        "epochs=10\n",
        "\n",
        "models = [CustomNN(), CustomNN1(), CustomNN2(), CustomNN3(), CustomNN4()]"
      ]
    },
    {
      "cell_type": "markdown",
      "metadata": {
        "id": "vtO4Kih60AVp"
      },
      "source": [
        "Nuovo"
      ]
    },
    {
      "cell_type": "code",
      "execution_count": null,
      "metadata": {
        "id": "Lv6i9jMS0bJx"
      },
      "outputs": [],
      "source": [
        "def save_hystory(hystory, CustomText):\n",
        "    # Print Graph Results\n",
        "    acc = history.history['accuracy']\n",
        "    val_acc = history.history['val_accuracy']\n",
        "\n",
        "    loss = history.history['loss']\n",
        "    val_loss = history.history['val_loss']\n",
        "\n",
        "    test_results = models[i].evaluate(test_ds)\n",
        "\n",
        "    # Print Numerical values in the output file\n",
        "    with open(\"Results.txt\", \"a\") as txt_file:\n",
        "        txt_file.write(CustomText + \"\\n\" + str(acc) + \" \" + str(val_acc) + \" \" + str(loss) +\n",
        "                       str(val_loss) + \" \" + str(test_results[0]) + \" \" +  str(test_results[1]) + \"\\n\")"
      ]
    },
    {
      "cell_type": "code",
      "execution_count": null,
      "metadata": {
        "id": "SNG-tTyo1nuV"
      },
      "outputs": [],
      "source": [
        "# Augment and combine the datasets\n",
        "def combine_aug(dataset):\n",
        "    augmented_ds1 = dataset.map(lambda x, y: (prepare(x), y), num_parallel_calls=tf.data.AUTOTUNE)\n",
        "    augmented_ds2 = augmented_ds1.map(lambda x, y: (prepare(x), y), num_parallel_calls=tf.data.AUTOTUNE)\n",
        "    augmented_ds3 = dataset.map(lambda x, y: (prepare(x, 0), y), num_parallel_calls=tf.data.AUTOTUNE)\n",
        "    augmented_ds = tf.data.Dataset.from_tensor_slices([dataset, augmented_ds1, augmented_ds2, augmented_ds3]).flat_map(lambda x: x)\n",
        "    return augmented_ds.shuffle(buffer_size=100)\n",
        "\n",
        "train_ds_split = split_dataset(combine_aug(train_ds), len(models))\n",
        "val_ds_split = split_dataset(val_ds, len(models))"
      ]
    },
    {
      "cell_type": "code",
      "execution_count": null,
      "metadata": {
        "colab": {
          "base_uri": "https://localhost:8080/"
        },
        "id": "rVBeEKNl1nuV",
        "outputId": "43c4e98a-88ef-4a8a-e66e-76d5ce5afda2"
      },
      "outputs": [
        {
          "name": "stdout",
          "output_type": "stream",
          "text": [
            "Epoch 1/10\n",
            "868/868 [==============================] - 569s 652ms/step - loss: 2.9471 - accuracy: 0.5217 - val_loss: 0.7040 - val_accuracy: 0.6597\n",
            "Epoch 2/10\n",
            "868/868 [==============================] - 476s 541ms/step - loss: 0.5761 - accuracy: 0.7561 - val_loss: 0.4514 - val_accuracy: 0.8073\n",
            "Epoch 3/10\n",
            "868/868 [==============================] - 453s 521ms/step - loss: 0.3262 - accuracy: 0.8684 - val_loss: 0.4481 - val_accuracy: 0.8420\n",
            "Epoch 4/10\n",
            "868/868 [==============================] - 458s 527ms/step - loss: 0.2010 - accuracy: 0.9213 - val_loss: 0.4567 - val_accuracy: 0.8420\n",
            "Epoch 5/10\n",
            "868/868 [==============================] - 468s 537ms/step - loss: 0.1394 - accuracy: 0.9489 - val_loss: 0.5524 - val_accuracy: 0.8125\n",
            "Epoch 6/10\n",
            "868/868 [==============================] - 474s 545ms/step - loss: 0.1068 - accuracy: 0.9615 - val_loss: 0.6258 - val_accuracy: 0.8264\n",
            "Epoch 7/10\n",
            "868/868 [==============================] - 453s 521ms/step - loss: 0.1085 - accuracy: 0.9617 - val_loss: 0.5981 - val_accuracy: 0.8385\n",
            "Epoch 8/10\n",
            "868/868 [==============================] - 452s 520ms/step - loss: 0.0856 - accuracy: 0.9713 - val_loss: 0.6741 - val_accuracy: 0.8247\n",
            "Epoch 9/10\n",
            "868/868 [==============================] - 444s 510ms/step - loss: 0.0839 - accuracy: 0.9751 - val_loss: 0.6123 - val_accuracy: 0.8490\n",
            "Epoch 10/10\n",
            "868/868 [==============================] - 444s 509ms/step - loss: 0.0747 - accuracy: 0.9764 - val_loss: 0.6750 - val_accuracy: 0.8455\n",
            "272/272 [==============================] - 44s 157ms/step - loss: 0.6690 - accuracy: 0.8452\n",
            "Epoch 1/10\n",
            "868/868 [==============================] - 643s 728ms/step - loss: 1.2359 - accuracy: 0.4211 - val_loss: 3.3019 - val_accuracy: 0.1944\n",
            "Epoch 2/10\n",
            "868/868 [==============================] - 627s 713ms/step - loss: 1.0432 - accuracy: 0.4992 - val_loss: 1.3349 - val_accuracy: 0.4323\n",
            "Epoch 3/10\n",
            "868/868 [==============================] - 629s 714ms/step - loss: 0.8869 - accuracy: 0.5759 - val_loss: 2.6205 - val_accuracy: 0.4670\n",
            "Epoch 4/10\n",
            "868/868 [==============================] - 621s 708ms/step - loss: 0.8519 - accuracy: 0.5984 - val_loss: 1.5526 - val_accuracy: 0.4306\n",
            "Epoch 5/10\n",
            "868/868 [==============================] - 619s 704ms/step - loss: 0.7444 - accuracy: 0.6539 - val_loss: 1.0334 - val_accuracy: 0.5417\n",
            "Epoch 6/10\n",
            "868/868 [==============================] - 617s 704ms/step - loss: 0.6677 - accuracy: 0.6992 - val_loss: 0.9538 - val_accuracy: 0.5122\n",
            "Epoch 7/10\n",
            "868/868 [==============================] - 628s 714ms/step - loss: 0.5996 - accuracy: 0.7324 - val_loss: 0.9242 - val_accuracy: 0.5833\n",
            "Epoch 8/10\n",
            "868/868 [==============================] - 624s 708ms/step - loss: 0.5273 - accuracy: 0.7731 - val_loss: 0.9966 - val_accuracy: 0.5920\n",
            "Epoch 9/10\n",
            "868/868 [==============================] - 624s 710ms/step - loss: 0.4823 - accuracy: 0.7920 - val_loss: 0.8499 - val_accuracy: 0.6389\n",
            "Epoch 10/10\n",
            "868/868 [==============================] - 617s 700ms/step - loss: 0.4352 - accuracy: 0.8123 - val_loss: 0.8902 - val_accuracy: 0.5990\n",
            "272/272 [==============================] - 53s 190ms/step - loss: 0.8850 - accuracy: 0.6233\n"
          ]
        }
      ],
      "source": [
        "epochs=10\n",
        "\n",
        "models = [CustomNN3(), CustomNN4()]\n",
        "\n",
        "for i in range(len(models)):\n",
        "\n",
        "    # Compile the Model\n",
        "    models[i].compile(optimizer=\"Adam\",\n",
        "                      loss='sparse_categorical_crossentropy',\n",
        "                      metrics=['accuracy'])\n",
        "\n",
        "    # Train the Model\n",
        "    history = models[i].fit(\n",
        "        train_ds_split[i],\n",
        "        #aug_train_ds,\n",
        "        validation_data=val_ds_split[i],\n",
        "        #validation_data=val_ds,\n",
        "        epochs=epochs\n",
        "    )\n",
        "\n",
        "    save_hystory(history, \"- Model \" + str(i) + \" Mode Split&DupV2\")"
      ]
    },
    {
      "cell_type": "code",
      "execution_count": null,
      "metadata": {
        "colab": {
          "base_uri": "https://localhost:8080/",
          "height": 1000
        },
        "id": "a63sr9By87fn",
        "outputId": "dca1f0ec-1062-4328-f620-ff016d561ba1"
      },
      "outputs": [
        {
          "name": "stderr",
          "output_type": "stream",
          "text": [
            "<ipython-input-45-f14dda224a29>:12: MatplotlibDeprecationWarning: Auto-removal of overlapping axes is deprecated since 3.6 and will be removed two minor releases later; explicitly call ax.remove() as needed.\n",
            "  plt.subplot(1, 2, 1)\n"
          ]
        },
        {
          "ename": "AttributeError",
          "evalue": "module 'matplotlib.pyplot' has no attribute 'subtitle'",
          "output_type": "error",
          "traceback": [
            "\u001b[0;31m---------------------------------------------------------------------------\u001b[0m",
            "\u001b[0;31mAttributeError\u001b[0m                            Traceback (most recent call last)",
            "\u001b[0;32m<ipython-input-45-f14dda224a29>\u001b[0m in \u001b[0;36m<cell line: 38>\u001b[0;34m()\u001b[0m\n\u001b[1;32m     59\u001b[0m         \u001b[0mval_loss\u001b[0m \u001b[0;34m=\u001b[0m \u001b[0mstr_to_list\u001b[0m\u001b[0;34m(\u001b[0m\u001b[0mparts\u001b[0m\u001b[0;34m[\u001b[0m\u001b[0;36m3\u001b[0m\u001b[0;34m]\u001b[0m\u001b[0;34m)\u001b[0m\u001b[0;34m\u001b[0m\u001b[0;34m\u001b[0m\u001b[0m\n\u001b[1;32m     60\u001b[0m \u001b[0;34m\u001b[0m\u001b[0m\n\u001b[0;32m---> 61\u001b[0;31m         \u001b[0mprintPlot\u001b[0m\u001b[0;34m(\u001b[0m\u001b[0mepochs\u001b[0m\u001b[0;34m,\u001b[0m \u001b[0macc\u001b[0m\u001b[0;34m,\u001b[0m \u001b[0mval_acc\u001b[0m\u001b[0;34m,\u001b[0m \u001b[0mloss\u001b[0m\u001b[0;34m,\u001b[0m \u001b[0mval_loss\u001b[0m\u001b[0;34m,\u001b[0m \u001b[0mnome_file\u001b[0m\u001b[0;34m)\u001b[0m\u001b[0;34m\u001b[0m\u001b[0;34m\u001b[0m\u001b[0m\n\u001b[0m\u001b[1;32m     62\u001b[0m \u001b[0;34m\u001b[0m\u001b[0m\n\u001b[1;32m     63\u001b[0m         \u001b[0mzipf\u001b[0m\u001b[0;34m.\u001b[0m\u001b[0mwrite\u001b[0m\u001b[0;34m(\u001b[0m\u001b[0mnome_file\u001b[0m \u001b[0;34m+\u001b[0m \u001b[0;34m\".png\"\u001b[0m\u001b[0;34m,\u001b[0m \u001b[0mos\u001b[0m\u001b[0;34m.\u001b[0m\u001b[0mpath\u001b[0m\u001b[0;34m.\u001b[0m\u001b[0mbasename\u001b[0m\u001b[0;34m(\u001b[0m\u001b[0mnome_file\u001b[0m \u001b[0;34m+\u001b[0m \u001b[0;34m\".png\"\u001b[0m\u001b[0;34m)\u001b[0m\u001b[0;34m)\u001b[0m\u001b[0;34m\u001b[0m\u001b[0;34m\u001b[0m\u001b[0m\n",
            "\u001b[0;32m<ipython-input-45-f14dda224a29>\u001b[0m in \u001b[0;36mprintPlot\u001b[0;34m(epochs, acc, val_acc, loss, val_loss, nome_file)\u001b[0m\n\u001b[1;32m     14\u001b[0m     \u001b[0mplt\u001b[0m\u001b[0;34m.\u001b[0m\u001b[0mplot\u001b[0m\u001b[0;34m(\u001b[0m\u001b[0mepochs_range\u001b[0m\u001b[0;34m,\u001b[0m \u001b[0mval_acc\u001b[0m\u001b[0;34m,\u001b[0m \u001b[0mlabel\u001b[0m\u001b[0;34m=\u001b[0m\u001b[0;34m'Validation Accuracy'\u001b[0m\u001b[0;34m)\u001b[0m\u001b[0;34m\u001b[0m\u001b[0;34m\u001b[0m\u001b[0m\n\u001b[1;32m     15\u001b[0m     \u001b[0mplt\u001b[0m\u001b[0;34m.\u001b[0m\u001b[0mlegend\u001b[0m\u001b[0;34m(\u001b[0m\u001b[0mloc\u001b[0m\u001b[0;34m=\u001b[0m\u001b[0;34m'lower right'\u001b[0m\u001b[0;34m)\u001b[0m\u001b[0;34m\u001b[0m\u001b[0;34m\u001b[0m\u001b[0m\n\u001b[0;32m---> 16\u001b[0;31m     \u001b[0mplt\u001b[0m\u001b[0;34m.\u001b[0m\u001b[0msubtitle\u001b[0m\u001b[0;34m(\u001b[0m\u001b[0;34m'Training and Validation Accuracy'\u001b[0m\u001b[0;34m)\u001b[0m\u001b[0;34m\u001b[0m\u001b[0;34m\u001b[0m\u001b[0m\n\u001b[0m\u001b[1;32m     17\u001b[0m \u001b[0;34m\u001b[0m\u001b[0m\n\u001b[1;32m     18\u001b[0m     \u001b[0mplt\u001b[0m\u001b[0;34m.\u001b[0m\u001b[0msubplot\u001b[0m\u001b[0;34m(\u001b[0m\u001b[0;36m1\u001b[0m\u001b[0;34m,\u001b[0m \u001b[0;36m2\u001b[0m\u001b[0;34m,\u001b[0m \u001b[0;36m2\u001b[0m\u001b[0;34m)\u001b[0m\u001b[0;34m\u001b[0m\u001b[0;34m\u001b[0m\u001b[0m\n",
            "\u001b[0;31mAttributeError\u001b[0m: module 'matplotlib.pyplot' has no attribute 'subtitle'"
          ]
        },
        {
          "data": {
            "image/png": "[encoded data removed]",
            "text/plain": [
              "<Figure size 1200x800 with 1 Axes>"
            ]
          },
          "metadata": {},
          "output_type": "display_data"
        }
      ],
      "source": [
        "import matplotlib.pyplot as plt\n",
        "import zipfile\n",
        "import ast\n",
        "import os\n",
        "\n",
        "def printPlot(epochs, acc, val_acc, loss, val_loss, nome_file):\n",
        "    epochs_range = range(epochs)\n",
        "\n",
        "    plt.figure(figsize=(12, 8))\n",
        "    plt.subplot(1, 2, 1)\n",
        "    plt.plot(epochs_range, acc, label='Training Accuracy')\n",
        "    plt.plot(epochs_range, val_acc, label='Validation Accuracy')\n",
        "    plt.legend(loc='lower right')\n",
        "    plt.title('Training and Validation Accuracy')\n",
        "\n",
        "    plt.subplot(1, 2, 2)\n",
        "    plt.plot(epochs_range, loss, label='Training Loss')\n",
        "    plt.plot(epochs_range, val_loss, label='Validation Loss')\n",
        "    plt.legend(loc='upper right')\n",
        "    plt.title('Training and Validation Loss')\n",
        "\n",
        "    plt.savefig(nome_file)\n",
        "    plt.show()\n",
        "\n",
        "# Funzione per convertire una stringa rappresentante una lista in una lista effettiva\n",
        "def str_to_list(s):\n",
        "    return ast.literal_eval(s)\n",
        "\n",
        "# Leggere il file\n",
        "with open('Results.txt', 'r') as file:\n",
        "    lines = file.readlines()\n",
        "\n",
        "nome_file = \"empty.png\"\n",
        "\n",
        "# Creare un file zip per salvare le immagini\n",
        "with zipfile.ZipFile('grafici.zip', 'w') as zipf:\n",
        "    # Processare ogni riga\n",
        "    for i, line in enumerate(lines):\n",
        "\n",
        "        # Saltare le righe che iniziano con \"-\"\n",
        "        if line.startswith('-'):\n",
        "            nome_file = line[2:] + \".png\"\n",
        "            continue\n",
        "\n",
        "        parts = line.split('] ')\n",
        "\n",
        "        # Aggiustare la formattazione delle liste\n",
        "        parts[0] = parts[0] + ']'\n",
        "        parts[1] = parts[1] + ']'\n",
        "        parts[2] = parts[2] + ']'\n",
        "        parts[3] = parts[3] + ']'\n",
        "\n",
        "        # Convertire le parti in liste e float\n",
        "        acc = str_to_list(parts[0])\n",
        "        val_acc = str_to_list(parts[1])\n",
        "        loss = str_to_list(parts[2])\n",
        "        val_loss = str_to_list(parts[3])\n",
        "\n",
        "        printPlot(epochs, acc, val_acc, loss, val_loss, nome_file)\n",
        "\n",
        "        zipf.write(nome_file, os.path.basename(nome_file))"
      ]
    },
    {
      "cell_type": "code",
      "execution_count": null,
      "metadata": {
        "id": "EjPX1qsJTK2I"
      },
      "outputs": [],
      "source": [
        "%%script true\n",
        "\n",
        "#train_ds_split = split_dataset(train_ds, len(models))\n",
        "#val_ds_split = split_dataset(val_ds, len(models))\n",
        "\n",
        "aug_train_ds = train_ds.map(lambda x, y: (prepare(x), y), num_parallel_calls=tf.data.AUTOTUNE)\n",
        "#aug_train_ds = []\n",
        "#for i in range(len(models)):\n",
        "#    aug_train_ds.append(train_ds_split[i].map(lambda x, y: (prepare(x), y), num_parallel_calls=tf.data.AUTOTUNE))"
      ]
    },
    {
      "cell_type": "code",
      "execution_count": null,
      "metadata": {
        "id": "GCe3k5zjq-Yk"
      },
      "outputs": [],
      "source": [
        "#%%script true\n",
        "# Augment and combine the datasets\n",
        "def combine_aug(dataset):\n",
        "    augmented_ds1 = dataset.map(lambda x, y: (prepare(x), y), num_parallel_calls=tf.data.AUTOTUNE)\n",
        "    #augmented_ds2 = augmented_ds1.map(lambda x, y: (prepare(x), y), num_parallel_calls=tf.data.AUTOTUNE)\n",
        "    #augmented_ds3 = dataset.map(lambda x, y: (prepare(x, 0), y), num_parallel_calls=tf.data.AUTOTUNE)\n",
        "    augmented_ds = tf.data.Dataset.from_tensor_slices([dataset, augmented_ds1]).flat_map(lambda x: x)\n",
        "    return augmented_ds.shuffle(buffer_size=100)\n",
        "\n",
        "aug_train_ds = combine_aug(train_ds)\n",
        "#train_ds_split = split_dataset(combine_aug(train_ds), len(models))\n",
        "#val_ds_split = split_dataset(val_ds, len(models))"
      ]
    },
    {
      "cell_type": "code",
      "execution_count": null,
      "metadata": {
        "id": "x5VugOeaiFzQ"
      },
      "outputs": [],
      "source": [
        "%%script true\n",
        "# Create and compile the model\n",
        "model50 = CustomNN11bis()\n",
        "\n",
        "model50.compile(optimizer='adam',\n",
        "                     loss='sparse_categorical_crossentropy',\n",
        "                     #loss='categorical_crossentropy',\n",
        "                     #loss='kullback_leibler_divergence',\n",
        "                     metrics=['accuracy'])\n",
        "\n",
        "# Train the Model\n",
        "history = model50.fit(\n",
        "    aug_train_ds,\n",
        "    validation_data=val_ds,\n",
        "    epochs=epochs\n",
        ")\n",
        "\n",
        "# Print Graph Results\n",
        "acc = history.history['accuracy']\n",
        "val_acc = history.history['val_accuracy']\n",
        "\n",
        "loss = history.history['loss']\n",
        "val_loss = history.history['val_loss']\n",
        "\n",
        "test_results = model50.evaluate(test_ds)\n",
        "\n",
        "# Print Numerical values in the output file\n",
        "with open(\"output_ResNet50.txt\", \"a\") as txt_file:\n",
        "    txt_file.write(str(acc) + \" \" + str(val_acc) + \" \" + str(loss) +\n",
        "        str(val_loss) + \" \" + str(test_results[0]) + \" \" +  str(test_results[1]) + \"\\n\")"
      ]
    },
    {
      "cell_type": "code",
      "execution_count": null,
      "metadata": {
        "colab": {
          "base_uri": "https://localhost:8080/"
        },
        "collapsed": true,
        "id": "YREO9kgxw12j",
        "outputId": "bb52551c-572c-40f5-d5c0-872618477b50"
      },
      "outputs": [
        {
          "name": "stdout",
          "output_type": "stream",
          "text": [
            "Epoch 1/10\n",
            "2172/2172 [==============================] - 79s 34ms/step - loss: 2.5144 - accuracy: 0.4910 - val_loss: 17.0734 - val_accuracy: 0.2764\n",
            "Epoch 2/10\n",
            "2172/2172 [==============================] - 74s 34ms/step - loss: 1.0029 - accuracy: 0.5332 - val_loss: 11.7321 - val_accuracy: 0.4462\n",
            "Epoch 3/10\n",
            "2172/2172 [==============================] - 73s 33ms/step - loss: 0.9105 - accuracy: 0.5754 - val_loss: 1.6398 - val_accuracy: 0.5785\n",
            "Epoch 4/10\n",
            "2172/2172 [==============================] - 72s 33ms/step - loss: 0.7100 - accuracy: 0.6758 - val_loss: 0.8551 - val_accuracy: 0.7434\n",
            "Epoch 5/10\n",
            "2172/2172 [==============================] - 72s 32ms/step - loss: 0.6232 - accuracy: 0.7151 - val_loss: 0.6829 - val_accuracy: 0.7983\n",
            "Epoch 6/10\n",
            "2172/2172 [==============================] - 73s 33ms/step - loss: 0.5670 - accuracy: 0.7401 - val_loss: 0.8303 - val_accuracy: 0.7882\n",
            "Epoch 7/10\n",
            "2172/2172 [==============================] - 72s 33ms/step - loss: 0.5175 - accuracy: 0.7669 - val_loss: 1.1122 - val_accuracy: 0.7826\n",
            "Epoch 8/10\n",
            "2172/2172 [==============================] - 73s 34ms/step - loss: 0.4805 - accuracy: 0.7867 - val_loss: 2.6467 - val_accuracy: 0.7087\n",
            "Epoch 9/10\n",
            "2172/2172 [==============================] - 71s 32ms/step - loss: 0.4510 - accuracy: 0.8023 - val_loss: 1.5075 - val_accuracy: 0.8104\n",
            "Epoch 10/10\n",
            "2172/2172 [==============================] - 74s 33ms/step - loss: 0.4305 - accuracy: 0.8157 - val_loss: 2.1337 - val_accuracy: 0.8080\n",
            "Epoch 1/10\n",
            "2172/2172 [==============================] - 73s 32ms/step - loss: 1.2027 - accuracy: 0.5117 - val_loss: 1.7884 - val_accuracy: 0.5889\n",
            "Epoch 2/10\n",
            "2172/2172 [==============================] - 73s 33ms/step - loss: 0.8367 - accuracy: 0.6162 - val_loss: 1.5798 - val_accuracy: 0.5576\n",
            "Epoch 3/10\n",
            "2172/2172 [==============================] - 73s 33ms/step - loss: 0.6752 - accuracy: 0.6912 - val_loss: 1.4579 - val_accuracy: 0.7316\n",
            "Epoch 4/10\n",
            "2172/2172 [==============================] - 72s 32ms/step - loss: 0.5894 - accuracy: 0.7344 - val_loss: 1.7149 - val_accuracy: 0.7420\n",
            "Epoch 5/10\n",
            "2172/2172 [==============================] - 74s 33ms/step - loss: 0.5368 - accuracy: 0.7595 - val_loss: 1.4551 - val_accuracy: 0.8188\n",
            "Epoch 6/10\n",
            "2172/2172 [==============================] - 73s 33ms/step - loss: 0.4931 - accuracy: 0.7826 - val_loss: 1.5678 - val_accuracy: 0.7997\n",
            "Epoch 7/10\n",
            "2172/2172 [==============================] - 75s 34ms/step - loss: 0.4579 - accuracy: 0.8006 - val_loss: 1.2512 - val_accuracy: 0.8708\n",
            "Epoch 8/10\n",
            "2172/2172 [==============================] - 77s 35ms/step - loss: 0.4348 - accuracy: 0.8156 - val_loss: 0.6739 - val_accuracy: 0.8847\n",
            "Epoch 9/10\n",
            "2172/2172 [==============================] - 75s 34ms/step - loss: 0.4137 - accuracy: 0.8290 - val_loss: 0.7197 - val_accuracy: 0.8781\n",
            "Epoch 10/10\n",
            "2172/2172 [==============================] - 78s 35ms/step - loss: 0.3908 - accuracy: 0.8400 - val_loss: 0.7906 - val_accuracy: 0.9097\n",
            "Epoch 1/10\n",
            "2172/2172 [==============================] - 75s 33ms/step - loss: 1.1964 - accuracy: 0.4771 - val_loss: 2.0358 - val_accuracy: 0.3410\n",
            "Epoch 2/10\n",
            "2172/2172 [==============================] - 72s 33ms/step - loss: 0.9621 - accuracy: 0.5505 - val_loss: 1.2500 - val_accuracy: 0.5663\n",
            "Epoch 3/10\n",
            "2172/2172 [==============================] - 73s 33ms/step - loss: 0.8211 - accuracy: 0.6256 - val_loss: 0.9103 - val_accuracy: 0.6809\n",
            "Epoch 4/10\n",
            "2172/2172 [==============================] - 73s 33ms/step - loss: 0.7237 - accuracy: 0.6737 - val_loss: 0.6621 - val_accuracy: 0.7688\n",
            "Epoch 5/10\n",
            "2172/2172 [==============================] - 68s 31ms/step - loss: 0.6503 - accuracy: 0.7064 - val_loss: 0.6152 - val_accuracy: 0.7965\n",
            "Epoch 6/10\n",
            "2172/2172 [==============================] - 70s 32ms/step - loss: 0.6015 - accuracy: 0.7288 - val_loss: 0.7316 - val_accuracy: 0.7816\n",
            "Epoch 7/10\n",
            "2172/2172 [==============================] - 68s 31ms/step - loss: 0.5638 - accuracy: 0.7476 - val_loss: 1.3480 - val_accuracy: 0.7434\n",
            "Epoch 8/10\n",
            "2172/2172 [==============================] - 70s 32ms/step - loss: 0.5371 - accuracy: 0.7575 - val_loss: 0.5694 - val_accuracy: 0.8358\n",
            "Epoch 9/10\n",
            "2172/2172 [==============================] - 70s 32ms/step - loss: 0.5090 - accuracy: 0.7722 - val_loss: 0.6543 - val_accuracy: 0.8472\n",
            "Epoch 10/10\n",
            "2172/2172 [==============================] - 69s 31ms/step - loss: 0.4989 - accuracy: 0.7785 - val_loss: 0.6503 - val_accuracy: 0.8229\n",
            "Epoch 1/10\n",
            "2172/2172 [==============================] - 72s 32ms/step - loss: 1.4663 - accuracy: 0.4391 - val_loss: 59.8943 - val_accuracy: 0.3931\n",
            "Epoch 2/10\n",
            "2172/2172 [==============================] - 73s 33ms/step - loss: 1.3474 - accuracy: 0.4521 - val_loss: 11.9548 - val_accuracy: 0.4437\n",
            "Epoch 3/10\n",
            "2172/2172 [==============================] - 74s 33ms/step - loss: 0.9671 - accuracy: 0.5524 - val_loss: 93.1784 - val_accuracy: 0.1934\n",
            "Epoch 4/10\n",
            "2172/2172 [==============================] - 70s 32ms/step - loss: 0.9477 - accuracy: 0.5795 - val_loss: 2.9219 - val_accuracy: 0.4691\n",
            "Epoch 5/10\n",
            "2172/2172 [==============================] - 73s 33ms/step - loss: 0.7324 - accuracy: 0.6663 - val_loss: 3.1526 - val_accuracy: 0.6382\n",
            "Epoch 6/10\n",
            "2172/2172 [==============================] - 75s 34ms/step - loss: 0.6406 - accuracy: 0.7102 - val_loss: 3.3193 - val_accuracy: 0.6646\n",
            "Epoch 7/10\n",
            "2172/2172 [==============================] - 73s 33ms/step - loss: 0.5740 - accuracy: 0.7440 - val_loss: 1.6992 - val_accuracy: 0.7278\n",
            "Epoch 8/10\n",
            "2172/2172 [==============================] - 72s 33ms/step - loss: 0.5137 - accuracy: 0.7705 - val_loss: 2.4890 - val_accuracy: 0.7583\n",
            "Epoch 9/10\n",
            "2172/2172 [==============================] - 73s 33ms/step - loss: 0.4900 - accuracy: 0.7876 - val_loss: 2.8572 - val_accuracy: 0.7410\n",
            "Epoch 10/10\n",
            "2172/2172 [==============================] - 72s 33ms/step - loss: 0.4416 - accuracy: 0.8084 - val_loss: 1.4983 - val_accuracy: 0.8229\n",
            "Epoch 1/10\n",
            "2172/2172 [==============================] - 82s 36ms/step - loss: 1.0552 - accuracy: 0.5033 - val_loss: 28.3281 - val_accuracy: 0.4062\n",
            "Epoch 2/10\n",
            "2172/2172 [==============================] - 80s 36ms/step - loss: 1.0989 - accuracy: 0.4892 - val_loss: 1.3271 - val_accuracy: 0.4514\n",
            "Epoch 3/10\n",
            "2172/2172 [==============================] - 79s 36ms/step - loss: 0.8907 - accuracy: 0.5864 - val_loss: 0.9425 - val_accuracy: 0.5941\n",
            "Epoch 4/10\n",
            "2172/2172 [==============================] - 80s 36ms/step - loss: 0.7673 - accuracy: 0.6460 - val_loss: 0.8449 - val_accuracy: 0.6771\n",
            "Epoch 5/10\n",
            "2172/2172 [==============================] - 80s 36ms/step - loss: 0.6836 - accuracy: 0.6880 - val_loss: 0.6637 - val_accuracy: 0.7278\n",
            "Epoch 6/10\n",
            "2172/2172 [==============================] - 79s 36ms/step - loss: 0.6300 - accuracy: 0.7129 - val_loss: 0.5850 - val_accuracy: 0.7788\n",
            "Epoch 7/10\n",
            "2172/2172 [==============================] - 80s 37ms/step - loss: 0.5847 - accuracy: 0.7339 - val_loss: 0.8442 - val_accuracy: 0.7253\n",
            "Epoch 8/10\n",
            "2172/2172 [==============================] - 79s 36ms/step - loss: 0.5552 - accuracy: 0.7466 - val_loss: 0.7742 - val_accuracy: 0.7524\n",
            "Epoch 9/10\n",
            "2172/2172 [==============================] - 79s 36ms/step - loss: 0.5247 - accuracy: 0.7636 - val_loss: 0.5289 - val_accuracy: 0.8170\n",
            "Epoch 10/10\n",
            "2172/2172 [==============================] - 79s 36ms/step - loss: 0.5016 - accuracy: 0.7741 - val_loss: 0.5700 - val_accuracy: 0.8323\n"
          ]
        }
      ],
      "source": [
        "for i in range(len(models)):\n",
        "\n",
        "    # Compile the Model\n",
        "    models[i].compile(optimizer=\"Adam\",\n",
        "                      loss='sparse_categorical_crossentropy',\n",
        "                      metrics=['accuracy'])\n",
        "\n",
        "    # Train the Model\n",
        "    history = models[i].fit(\n",
        "        #train_ds_split[i],\n",
        "        aug_train_ds,\n",
        "        #validation_data=val_ds_split[i],\n",
        "        validation_data=val_ds,\n",
        "        epochs=epochs\n",
        "    )\n",
        "\n",
        "    models[i].save('model' + str(i), save_format=\"tf\")"
      ]
    },
    {
      "cell_type": "code",
      "execution_count": null,
      "metadata": {
        "id": "dzrop0Ycck4_"
      },
      "outputs": [],
      "source": [
        "for i in range(5):\n",
        "    temp = shutil.copytree('model' + str(i), drive_data + 'model' + str(i))"
      ]
    },
    {
      "cell_type": "code",
      "execution_count": null,
      "metadata": {
        "id": "U7tCmv3ht4FL"
      },
      "outputs": [],
      "source": [
        "%%script true\n",
        "for i in range(5):\n",
        "    shutil.rmtree('model' + str(i))\n",
        "    temp = shutil.copytree(drive_data + 'NoSplit/model' + str(i), 'model' + str(i))"
      ]
    },
    {
      "cell_type": "code",
      "execution_count": null,
      "metadata": {
        "id": "JKa-3JGLDGl0"
      },
      "outputs": [],
      "source": [
        "%%script true\n",
        "for i in range(5):\n",
        "    models[i] = tf.keras.models.load_model('model' + str(i), compile=True)"
      ]
    },
    {
      "cell_type": "code",
      "execution_count": null,
      "metadata": {
        "colab": {
          "base_uri": "https://localhost:8080/"
        },
        "id": "hZpaJtyk2v2E",
        "outputId": "29264a0a-e604-4341-9a88-6bd84e4a9bed"
      },
      "outputs": [
        {
          "name": "stdout",
          "output_type": "stream",
          "text": [
            "272/272 [==============================] - 65s 236ms/step - loss: 1.6918 - accuracy: 0.8094\n",
            "272/272 [==============================] - 48s 173ms/step - loss: 0.6183 - accuracy: 0.9086\n",
            "272/272 [==============================] - 39s 140ms/step - loss: 0.5955 - accuracy: 0.8300\n",
            "272/272 [==============================] - 47s 171ms/step - loss: 1.1389 - accuracy: 0.8249\n",
            "272/272 [==============================] - 65s 235ms/step - loss: 0.5511 - accuracy: 0.8254\n"
          ]
        }
      ],
      "source": [
        "for i in range(len(models)):\n",
        "    models[i].evaluate(test_ds)"
      ]
    },
    {
      "cell_type": "code",
      "execution_count": null,
      "metadata": {
        "id": "mLfRRI69Wait"
      },
      "outputs": [],
      "source": [
        "#models[1].predict(test_ds.take(2))"
      ]
    },
    {
      "cell_type": "code",
      "execution_count": null,
      "metadata": {
        "id": "EurZm4AeuKyv"
      },
      "outputs": [],
      "source": [
        "#models = [models[4], models[2], models[1]]"
      ]
    },
    {
      "cell_type": "code",
      "execution_count": null,
      "metadata": {
        "colab": {
          "base_uri": "https://localhost:8080/"
        },
        "id": "6A3QDaPbJhVk",
        "outputId": "3ac974f9-afc3-4ff1-fc33-409365f63e94"
      },
      "outputs": [
        {
          "name": "stdout",
          "output_type": "stream",
          "text": [
            "272/272 [==============================] - 21s 75ms/step - loss: 0.3931 - accuracy: 0.9191\n"
          ]
        }
      ],
      "source": [
        "MV_modelBis = CustomNN12bis(models)\n",
        "\n",
        "# You have to do it\n",
        "MV_modelBis.compile(optimizer=\"Adam\",\n",
        "                 loss='sparse_categorical_crossentropy',\n",
        "                 metrics=['accuracy'],\n",
        "                 run_eagerly=True)\n",
        "\n",
        "'''\n",
        "history = MV_modelBis.fit(\n",
        "    aug_train_ds,\n",
        "    validation_data=val_ds,\n",
        "    epochs=epochs\n",
        ")\n",
        "'''\n",
        "\n",
        "test_results = MV_modelBis.evaluate(test_ds)\n",
        "\n",
        "with open(\"Results.txt\", \"a\") as txt_file:\n",
        "    txt_file.write(str(test_results[0]) + \" \" +  str(test_results[1]) + \"\\n\")"
      ]
    },
    {
      "cell_type": "code",
      "execution_count": null,
      "metadata": {
        "colab": {
          "base_uri": "https://localhost:8080/"
        },
        "id": "Masz_qny2y7g",
        "outputId": "e356d35d-05ad-424e-a069-6751f8a927e6"
      },
      "outputs": [
        {
          "name": "stdout",
          "output_type": "stream",
          "text": [
            "90/90 [==============================] - 16s 179ms/step - loss: 1.6115 - accuracy: 0.8066\n",
            "90/90 [==============================] - 16s 178ms/step - loss: 0.6522 - accuracy: 0.9104\n",
            "90/90 [==============================] - 10s 111ms/step - loss: 0.6488 - accuracy: 0.8229\n",
            "90/90 [==============================] - 16s 171ms/step - loss: 1.1754 - accuracy: 0.8233\n",
            "90/90 [==============================] - 20s 219ms/step - loss: 0.5574 - accuracy: 0.8337\n",
            "272/272 [==============================] - 239s 878ms/step - loss: 0.2508 - accuracy: 0.9264\n"
          ]
        }
      ],
      "source": [
        "accuracies = [model.evaluate(val_ds)[1] for model in models]\n",
        "MV_modelTris = CustomNN12tris(models, accuracies)\n",
        "\n",
        "# You have to do it\n",
        "MV_modelTris.compile(optimizer=\"Adam\",\n",
        "                 loss='sparse_categorical_crossentropy',\n",
        "                 metrics=['accuracy'],\n",
        "                 run_eagerly=True)\n",
        "\n",
        "'''\n",
        "history = MV_modelTris.fit(\n",
        "    aug_train_ds,\n",
        "    validation_data=val_ds,\n",
        "    epochs=epochs\n",
        ")\n",
        "'''\n",
        "\n",
        "test_results = MV_modelTris.evaluate(test_ds)\n",
        "\n",
        "with open(\"Results.txt\", \"a\") as txt_file:\n",
        "    txt_file.write(str(test_results[0]) + \" \" +  str(test_results[1]) + \"\\n\")"
      ]
    },
    {
      "cell_type": "code",
      "execution_count": null,
      "metadata": {
        "colab": {
          "base_uri": "https://localhost:8080/"
        },
        "id": "l7DnU6udxFMO",
        "outputId": "57a20a0b-cbcc-44e7-ebcf-9bf0d6366d7d"
      },
      "outputs": [
        {
          "name": "stdout",
          "output_type": "stream",
          "text": [
            "[0.8065972328186035, 0.9104166626930237, 0.8229166865348816, 0.8232638835906982, 0.8336805701255798]\n"
          ]
        }
      ],
      "source": [
        "print(accuracies)"
      ]
    },
    {
      "cell_type": "code",
      "execution_count": null,
      "metadata": {
        "colab": {
          "base_uri": "https://localhost:8080/",
          "height": 200
        },
        "id": "cWxD4MX6FTwJ",
        "outputId": "5becc235-6cbb-47e4-f9e6-608188f97566"
      },
      "outputs": [
        {
          "data": {
            "image/png": "[encoded data removed]",
            "text/plain": [
              "<Figure size 500x500 with 2 Axes>"
            ]
          },
          "metadata": {},
          "output_type": "display_data"
        }
      ],
      "source": [
        "# dont't execute this part\n",
        "#%%script true\n",
        "\n",
        "# Custom class to create a confusion matrix with sklearn\n",
        "from sklearn.metrics import confusion_matrix, ConfusionMatrixDisplay\n",
        "\n",
        "# Extract true labels and predictions\n",
        "#y_true = np.concatenate([y for _, y in test_ds], axis=0)\n",
        "\n",
        "# Note: this is necessary (despite being very slow) since predict does not return the predictions in the same order\n",
        "predictions = []\n",
        "y_true = []\n",
        "counter = 1\n",
        "for batch_images, batch_labels in test_ds:\n",
        "    print(\"\\r\", \"Batch \" + str(counter) + \"/\" + str(len(test_ds)), end=\"\")\n",
        "    counter += 1\n",
        "    for i in range(batch_size):\n",
        "        predictions.append(MV_modelTris.predict(np.expand_dims(batch_images[i], axis=0), verbose=0))\n",
        "        y_true.append(batch_labels[i])\n",
        "\n",
        "y_true = np.array(y_true)\n",
        "y_pred = np.argmax(np.concatenate(predictions), axis=1)\n",
        "\n",
        "# Create the confusion matrix\n",
        "cm = confusion_matrix(y_true, y_pred)\n",
        "\n",
        "# Plot confusion matrix\n",
        "disp = ConfusionMatrixDisplay(confusion_matrix = cm,\n",
        "                              display_labels = class_names)\n",
        "disp.plot(cmap=plt.cm.Blues)\n",
        "\n",
        "plt.xticks(rotation = 45, rotation_mode = 'anchor', ha = 'right')  # Rotate x-axis labels\n",
        "plt.yticks(rotation = 45)  # Rotate y-axis labels\n",
        "plt.title('Confusion Matrix', fontsize = 18, pad = 20)  # Move title and adjust font size\n",
        "plt.xlabel('Predicted Label', fontsize = 13, labelpad = 10)  # Increase x-axis label font size and add padding\n",
        "plt.ylabel('True Label', fontsize = 13, labelpad = 10)  # Increase y-axis label font size and add padding\n",
        "plt.tick_params(axis='both', which = 'major', labelsize = 10)  # Increase tick label font size\n",
        "\n",
        "# Adjust text size of the confusion matrix values\n",
        "for text in disp.text_.ravel():\n",
        "    text.set_fontsize(11)\n",
        "\n",
        "plt.gcf().set_size_inches(5, 5)\n",
        "plt.tight_layout()\n",
        "plt.savefig(\"ConfusionMatrix.png\", dpi = 500)  # Save the figure as a PNG file\n",
        "plt.show()"
      ]
    },
    {
      "cell_type": "code",
      "execution_count": null,
      "metadata": {
        "colab": {
          "base_uri": "https://localhost:8080/",
          "height": 53
        },
        "id": "S1QXgflXM81n",
        "outputId": "477b551b-4c61-4ed9-8d6f-558ed969a2c0"
      },
      "outputs": [
        {
          "data": {
            "application/vnd.google.colaboratory.intrinsic+json": {
              "type": "string"
            },
            "text/plain": [
              "'drive/My Drive/MLDA/ConfusionMatrix.png'"
            ]
          },
          "execution_count": 124,
          "metadata": {},
          "output_type": "execute_result"
        }
      ],
      "source": [
        "shutil.copy(\"ConfusionMatrix.png\", drive_data)"
      ]
    }
  ],
  "metadata": {
    "colab": {
      "provenance": []
    },
    "kernelspec": {
      "display_name": "Python 3",
      "name": "python3"
    },
    "language_info": {
      "name": "python"
    }
  },
  "nbformat": 4,
  "nbformat_minor": 0
}
