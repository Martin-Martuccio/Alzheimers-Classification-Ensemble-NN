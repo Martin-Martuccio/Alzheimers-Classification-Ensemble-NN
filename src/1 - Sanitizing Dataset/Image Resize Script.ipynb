{
  "nbformat": 4,
  "nbformat_minor": 0,
  "metadata": {
    "colab": {
      "provenance": []
    },
    "kernelspec": {
      "name": "python3",
      "display_name": "Python 3"
    },
    "language_info": {
      "name": "python"
    }
  },
  "cells": [
    {
      "cell_type": "code",
      "execution_count": 1,
      "metadata": {
        "id": "HJzUA0uvWnNO"
      },
      "outputs": [],
      "source": [
        "from PIL import Image\n",
        "import zipfile\n",
        "import shutil\n",
        "import os\n",
        "\n",
        "def stretch_images(input_folder, output_folder, new_size):\n",
        "    # Verifica se la cartella di output esiste, altrimenti la crea\n",
        "    if not os.path.exists(output_folder):\n",
        "        os.makedirs(output_folder)\n",
        "\n",
        "    # Cicla attraverso tutte le immagini nella cartella di input\n",
        "    for filename in os.listdir(input_folder):\n",
        "        # Verifica che il file sia un'immagine JPG\n",
        "        if filename.endswith(\".jpg\"):\n",
        "            # Apre l'immagine\n",
        "            with Image.open(os.path.join(input_folder, filename)) as img:\n",
        "                # Scala l'immagine\n",
        "                scaled_img = img.resize(new_size)\n",
        "                # Salva l'immagine ridimensionata nella cartella di output\n",
        "                scaled_img.save(os.path.join(output_folder, filename))\n",
        "\n",
        "def extract_zip(zip_file, extract_folder):\n",
        "    # Verifica se la cartella di estrazione esiste, altrimenti la crea\n",
        "    if not os.path.exists(extract_folder):\n",
        "        os.makedirs(extract_folder)\n",
        "\n",
        "    # Estrae il contenuto del file zip nella cartella di estrazione\n",
        "    with zipfile.ZipFile(zip_file, 'r') as zip_ref:\n",
        "        zip_ref.extractall(extract_folder)\n",
        "\n",
        "def create_zip(input_folders, output_zip):\n",
        "    # Crea un nuovo file zip\n",
        "    with zipfile.ZipFile(output_zip, 'w') as zip_ref:\n",
        "        # Cicla attraverso tutte le cartelle di input\n",
        "        for folder in input_folders:\n",
        "            # Cicla attraverso tutti i file nella cartella e aggiungili al file zip\n",
        "            for root, dirs, files in os.walk(folder):\n",
        "                for file in files:\n",
        "                    file_path = os.path.join(root, file)\n",
        "                    # Aggiunge il file al file zip mantenendo il percorso relativo\n",
        "                    zip_ref.write(file_path, os.path.relpath(file_path, os.path.join(folder, '..')))"
      ]
    },
    {
      "cell_type": "code",
      "source": [
        "# Specifica la nuova dimensione\n",
        "new_size = (128, 128)  # tuple (larghezza, altezza)\n",
        "\n",
        "# Definisci i nomi delle varie cartelle\n",
        "NameDirInput = \"Alzheimer Dataset\"\n",
        "NameDirOutput = \"Sized Alzheimer Dataset\"\n",
        "\n",
        "DirClasses = [\"MildDemented\", \"ModerateDemented\", \"NonDemented\", \"VeryMildDemented\"]\n",
        "\n",
        "InputDirList = [NameDirInput + \"/\" + DirClass for DirClass in DirClasses]\n",
        "OutputDirList = [NameDirOutput + \"/\" + DirClass for DirClass in DirClasses]\n",
        "\n",
        "# Chiama la funzione per estrarre il contenuto del file zip\n",
        "extract_zip(NameDirInput + \".zip\", NameDirInput)\n",
        "\n",
        "# Chiama la funzione per ridimensionare le immagini\n",
        "for i in range(len(DirClasses)):\n",
        "    stretch_images(InputDirList[i], OutputDirList[i], new_size)\n",
        "\n",
        "# Chiama la funzione per creare il nuovo file zip\n",
        "create_zip(OutputDirList, NameDirOutput + \".zip\")\n",
        "\n",
        "# Cancella tutte le cartelle residue\n",
        "shutil.rmtree(NameDirInput)\n",
        "shutil.rmtree(NameDirOutput)"
      ],
      "metadata": {
        "id": "TxFSl6CDXOwQ"
      },
      "execution_count": 2,
      "outputs": []
    }
  ]
}